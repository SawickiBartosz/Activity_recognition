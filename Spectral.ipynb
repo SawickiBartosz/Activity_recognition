{
 "cells": [
  {
   "cell_type": "code",
   "execution_count": null,
   "metadata": {},
   "outputs": [],
   "source": [
    "import pandas as pd\n",
    "import numpy as np\n",
    "import seaborn as sns\n",
    "\n",
    "from matplotlib import pyplot as plt\n",
    "from sklearn.cluster import KMeans, DBSCAN\n",
    "from utils import get_data_train, get_columns"
   ]
  },
  {
   "cell_type": "code",
   "execution_count": null,
   "metadata": {},
   "outputs": [],
   "source": [
    "import numpy as np\n",
    "\n",
    "from sklearn.cluster import SpectralClustering\n",
    "from sklearn import metrics\n",
    "from sklearn.datasets import make_blobs\n",
    "from sklearn.preprocessing import StandardScaler\n",
    "from tqdm import tqdm"
   ]
  },
  {
   "cell_type": "code",
   "execution_count": null,
   "metadata": {},
   "outputs": [],
   "source": [
    "df = get_data_train()\n",
    "chosen_cols = get_columns(df, n_cols=25) + ['activity', 'subject']"
   ]
  },
  {
   "cell_type": "code",
   "execution_count": null,
   "metadata": {},
   "outputs": [],
   "source": [
    "X = df[chosen_cols].drop(['activity', 'subject'], axis=1)\n",
    "y = df['activity']"
   ]
  },
  {
   "cell_type": "code",
   "execution_count": null,
   "metadata": {},
   "outputs": [],
   "source": [
    "epss = [4, 6, 8, 10, 12, 14, 16] # n_neighbors\n",
    "min_samples = [2,3,4,5,6,7,8,9, 10] # n_clusters\n",
    "n_epss = len( epss)\n",
    "n_min_samples = len( min_samples)\n",
    "\n",
    "homogenities = np.ndarray((n_epss, n_min_samples),)\n",
    "completenesses = np.ndarray((n_epss, n_min_samples),)\n",
    "v_measures = np.ndarray((n_epss, n_min_samples),)\n",
    "adjusted_rands = np.ndarray((n_epss, n_min_samples),)\n",
    "adjusted_mutual_infos = np.ndarray((n_epss, n_min_samples),)\n",
    "silhuettes = np.ndarray((n_epss, n_min_samples),)"
   ]
  },
  {
   "cell_type": "code",
   "execution_count": null,
   "metadata": {},
   "outputs": [],
   "source": [
    "for i in tqdm(range( n_epss)):\n",
    "    for j in range( n_min_samples):\n",
    "        sc = SpectralClustering( n_neighbors=epss[i], n_clusters=min_samples[j]).fit(X)\n",
    "        labels = sc.labels_\n",
    "        homogenities[i,j] = metrics.homogeneity_score(y, labels)\n",
    "        completenesses[i,j] = metrics.completeness_score(y, labels)\n",
    "        v_measures[i,j] = metrics.v_measure_score(y, labels)\n",
    "        adjusted_rands[i,j] = metrics.adjusted_rand_score(y, labels)\n",
    "        adjusted_mutual_infos[i,j] = metrics.adjusted_mutual_info_score(y, labels)\n",
    "        silhuettes[i,j] = metrics.silhouette_score(X, labels)"
   ]
  },
  {
   "cell_type": "code",
   "execution_count": null,
   "metadata": {},
   "outputs": [],
   "source": [
    "import seaborn as sns; sns.set_theme()\n",
    "import pandas as pd\n"
   ]
  },
  {
   "cell_type": "code",
   "execution_count": null,
   "metadata": {},
   "outputs": [],
   "source": [
    "\n",
    "homogenities_df = pd.DataFrame( homogenities, columns=min_samples, index=epss )\n",
    "completenesses_df = pd.DataFrame( completenesses, columns=min_samples, index=epss )\n",
    "v_measures_df = pd.DataFrame( v_measures, columns=min_samples, index=epss )\n",
    "adjusted_rands_df = pd.DataFrame( adjusted_rands, columns=min_samples, index=epss )\n",
    "adjusted_mutual_infos_df = pd.DataFrame( adjusted_mutual_infos, columns=min_samples, index=epss )\n",
    "silhuettes_df = pd.DataFrame( silhuettes, columns=min_samples, index=epss )"
   ]
  },
  {
   "cell_type": "code",
   "execution_count": null,
   "metadata": {},
   "outputs": [],
   "source": [
    "fig, axs = plt.subplots(3, 2,figsize=(9,9), constrained_layout=True)\n",
    "#fig.tight_layout()\n",
    "sns.heatmap( ax = axs[0,0], data = homogenities_df).set(title='homogenity score', ylabel=\"no of neighbors\", xlabel = \"no of clusters\")\n",
    "sns.heatmap( ax = axs[0,1], data = completenesses_df).set(title='completeness score', ylabel=\"no of neighbors\", xlabel = \"no of clusters\")\n",
    "sns.heatmap( ax = axs[1,0], data = v_measures_df).set(title='v measure score', ylabel=\"no of neighbors\", xlabel = \"no of clusters\")\n",
    "sns.heatmap( ax = axs[1,1], data = adjusted_rands_df).set(title='adjusted random score', ylabel=\"no of neighbors\", xlabel = \"no of clusters\")\n",
    "sns.heatmap( ax = axs[2,0], data = adjusted_mutual_infos_df).set(title='adjusted mutual information score', ylabel=\"no of neighbors\", xlabel = \"no of clusters\")\n",
    "sns.heatmap( ax = axs[2,1], data = silhuettes_df).set(title='silhuette score', ylabel=\"no of neighbors\", xlabel = \"no of clusters\")\n",
    "\n",
    "plt.show()"
   ]
  },
  {
   "cell_type": "code",
   "execution_count": null,
   "metadata": {},
   "outputs": [],
   "source": []
  },
  {
   "cell_type": "code",
   "execution_count": null,
   "metadata": {},
   "outputs": [],
   "source": [
    "sc = SpectralClustering( n_neighbors=10, n_clusters=3).fit(X)\n",
    "labels = sc.labels_"
   ]
  },
  {
   "cell_type": "code",
   "execution_count": null,
   "metadata": {},
   "outputs": [],
   "source": []
  },
  {
   "cell_type": "code",
   "execution_count": null,
   "metadata": {},
   "outputs": [],
   "source": [
    "\n",
    "\n",
    "import pandas as pd\n",
    "import numpy as np\n",
    "import seaborn as sns\n",
    "\n",
    "from matplotlib import pyplot as plt\n",
    "from sklearn.cluster import KMeans\n",
    "from sklearn.decomposition import PCA\n",
    "from sklearn.manifold import TSNE\n",
    "\n",
    "from utils import get_data_train, get_columns\n",
    "\n"
   ]
  },
  {
   "cell_type": "code",
   "execution_count": null,
   "metadata": {},
   "outputs": [],
   "source": [
    "def visualize(X, labels, title, vis_tool, ax=None, **kwargs):\n",
    "    # vis tool = PCA or TSNE, **kwargs: for example random_state for TSNE\n",
    "    vis_tool = vis_tool(n_components=2, **kwargs)\n",
    "    res = vis_tool.fit_transform(X)\n",
    "    res_labels = pd.DataFrame(np.column_stack((res,labels)),\n",
    "                 columns=['X', 'Y', 'label'])\n",
    "    if ax is None:\n",
    "        ax = plt.figure(figsize=(10,8))\n",
    "        no_return = False\n",
    "    else:\n",
    "        no_return = True\n",
    "    sns.scatterplot(data=res_labels, x='X', y='Y', hue='label', style='label')\n",
    "    plt.title(title)\n",
    "    if no_return:\n",
    "        return\n",
    "    return ax\n"
   ]
  },
  {
   "cell_type": "code",
   "execution_count": null,
   "metadata": {},
   "outputs": [],
   "source": [
    "ax = visualize(X, labels, '2D PCA for 25 chosen variables', PCA)\n",
    "plt.show()"
   ]
  },
  {
   "cell_type": "code",
   "execution_count": null,
   "metadata": {},
   "outputs": [],
   "source": []
  },
  {
   "cell_type": "code",
   "execution_count": null,
   "metadata": {},
   "outputs": [],
   "source": []
  },
  {
   "cell_type": "code",
   "execution_count": null,
   "metadata": {},
   "outputs": [],
   "source": [
    "n_clusters = [2,3,4,6]\n",
    "for n in n_clusters:\n",
    "    sc = SpectralClustering( n_neighbors=6, n_clusters=n).fit(X)\n",
    "    clusters = sc.fit_predict(X)\n",
    "    ax = visualize(X, clusters, \n",
    "                       '2D PCA for Spectral clustering with ' + str(n) + ' clusters', PCA)\n",
    "    plt.show()"
   ]
  },
  {
   "cell_type": "code",
   "execution_count": null,
   "metadata": {},
   "outputs": [],
   "source": [
    "visualize(X, y, '2D PCA for 25 chosen cols colored by activity', PCA)"
   ]
  },
  {
   "cell_type": "code",
   "execution_count": null,
   "metadata": {},
   "outputs": [],
   "source": [
    "visualize(X, SpectralClustering( n_neighbors=6, n_clusters=3).fit(X).labels_, \n",
    "    '2D TSNE for 25 chosen cols colored by Spectral Clustering for ' + str(3) + ' clusters', TSNE, random_state=123, n_jobs=-1)\n",
    "plt.show()\n",
    "visualize(X, y, \n",
    "    '2D TSNE for 25 chosen cols colored by activity', TSNE, random_state=123, n_jobs=-1)\n",
    "plt.show()"
   ]
  },
  {
   "cell_type": "code",
   "execution_count": null,
   "metadata": {},
   "outputs": [],
   "source": [
    "visualize(X, SpectralClustering( n_neighbors=6, n_clusters=4).fit(X).labels_, \n",
    "    '2D TSNE for 25 chosen cols colored by Spectral Clustering for ' + str(4) + ' clusters', TSNE, random_state=123, n_jobs=-1)\n",
    "plt.show()"
   ]
  },
  {
   "cell_type": "code",
   "execution_count": null,
   "metadata": {},
   "outputs": [],
   "source": [
    "visualize(X, SpectralClustering( n_neighbors=6, n_clusters=2).fit(X).labels_, \n",
    "    '2D TSNE for 25 chosen cols colored by Spectral Clustering for ' + str(2) + ' clusters', TSNE, random_state=123, n_jobs=-1)\n",
    "plt.show()"
   ]
  }
 ],
 "metadata": {
  "kernelspec": {
   "display_name": "Python 3",
   "language": "python",
   "name": "python3"
  },
  "language_info": {
   "codemirror_mode": {
    "name": "ipython",
    "version": 3
   },
   "file_extension": ".py",
   "mimetype": "text/x-python",
   "name": "python",
   "nbconvert_exporter": "python",
   "pygments_lexer": "ipython3",
   "version": "3.8.3"
  }
 },
 "nbformat": 4,
 "nbformat_minor": 4
}
