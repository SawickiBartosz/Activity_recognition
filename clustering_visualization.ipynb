{
 "cells": [
  {
   "cell_type": "code",
   "execution_count": null,
   "id": "super-center",
   "metadata": {},
   "outputs": [],
   "source": [
    "import pandas as pd\n",
    "import numpy as np\n",
    "import seaborn as sns\n",
    "\n",
    "from matplotlib import pyplot as plt\n",
    "from sklearn.cluster import KMeans\n",
    "from sklearn.decomposition import PCA\n",
    "from sklearn.manifold import TSNE\n",
    "\n",
    "from utils import get_data_train, get_columns"
   ]
  },
  {
   "cell_type": "code",
   "execution_count": null,
   "id": "stretch-valley",
   "metadata": {},
   "outputs": [],
   "source": [
    "df = get_data_train()\n",
    "activity_labels = df['activity']\n",
    "chosen_cols = get_columns(df, n_cols=25)\n",
    "X_chosen = df[chosen_cols]\n",
    "X_full = df.drop(['activity', 'subject'], axis=1)"
   ]
  },
  {
   "cell_type": "code",
   "execution_count": null,
   "id": "excess-resource",
   "metadata": {},
   "outputs": [],
   "source": [
    "def visualize(X, labels, title, vis_tool, ax=None, **kwargs):\n",
    "    # vis tool = PCA or TSNE, **kwargs: for example random_state for TSNE\n",
    "    vis_tool = vis_tool(n_components=2, **kwargs)\n",
    "    res = vis_tool.fit_transform(X)\n",
    "    res_labels = pd.DataFrame(np.column_stack((res,labels)),\n",
    "                 columns=['X', 'Y', 'label'])\n",
    "    if ax is None:\n",
    "        ax = plt.figure(figsize=(10,8))\n",
    "        no_return = False\n",
    "    else:\n",
    "        no_return = True\n",
    "    sns.scatterplot(data=res_labels, x='X', y='Y', hue='label', style='label')\n",
    "    plt.title(title)\n",
    "    if no_return:\n",
    "        return\n",
    "    return ax"
   ]
  },
  {
   "cell_type": "code",
   "execution_count": null,
   "id": "simple-seeker",
   "metadata": {},
   "outputs": [],
   "source": [
    "ax = visualize(X_chosen, activity_labels, '2D PCA for 25 chosen variables', PCA)\n",
    "plt.show()\n",
    "ax = visualize(X_full, activity_labels, '2D PCA for all numeric variables', PCA)\n",
    "plt.show()"
   ]
  },
  {
   "cell_type": "code",
   "execution_count": null,
   "id": "colored-jonathan",
   "metadata": {
    "scrolled": true
   },
   "outputs": [],
   "source": [
    "n_clusters = [2,3,4,6]\n",
    "for n in n_clusters:\n",
    "    kmeans = KMeans(n_clusters=n)\n",
    "    clusters = kmeans.fit_predict(X_chosen)\n",
    "    ax = visualize(X_chosen, clusters, \n",
    "                       '2D PCA for KMeans clustering with ' + str(n) + ' clusters', PCA)\n",
    "    plt.show()"
   ]
  },
  {
   "cell_type": "code",
   "execution_count": null,
   "id": "weird-confidentiality",
   "metadata": {
    "scrolled": false
   },
   "outputs": [],
   "source": [
    "n_clusters = [2,3,4,6]\n",
    "for n in n_clusters:\n",
    "    kmeans = KMeans(n_clusters=n)\n",
    "    clusters = kmeans.fit_predict(X_chosen)\n",
    "    ax = visualize(X_chosen, clusters, \n",
    "                       '2D TSNE for 25 chosen cols colored by KMeans for ' + str(n) + ' clusters',\n",
    "                   TSNE, random_state=123)\n",
    "    plt.show()"
   ]
  },
  {
   "cell_type": "code",
   "execution_count": null,
   "id": "invalid-projection",
   "metadata": {},
   "outputs": [],
   "source": [
    "kmeans = KMeans(n_clusters=3)\n",
    "clusters = kmeans.fit_predict(X_chosen)\n",
    "\n",
    "visualize(X_chosen, clusters, \n",
    "    '2D TSNE for 25 chosen cols colored by KMeans for ' + str(3) + ' clusters', TSNE, random_state=123, n_jobs=-1)\n",
    "plt.show()\n",
    "visualize(X_chosen, activity_labels, \n",
    "    '2D TSNE for 25 chosen cols colored by activity', TSNE, random_state=123, n_jobs=-1)\n",
    "plt.show()"
   ]
  }
 ],
 "metadata": {
  "kernelspec": {
   "display_name": "Python 3",
   "language": "python",
   "name": "python3"
  },
  "language_info": {
   "codemirror_mode": {
    "name": "ipython",
    "version": 3
   },
   "file_extension": ".py",
   "mimetype": "text/x-python",
   "name": "python",
   "nbconvert_exporter": "python",
   "pygments_lexer": "ipython3",
   "version": "3.8.5"
  }
 },
 "nbformat": 4,
 "nbformat_minor": 5
}
