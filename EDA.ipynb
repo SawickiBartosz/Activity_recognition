{
 "cells": [
  {
   "cell_type": "code",
   "execution_count": null,
   "id": "imposed-mambo",
   "metadata": {},
   "outputs": [],
   "source": [
    "import pandas as pd\n",
    "import numpy as np\n",
    "from matplotlib import pyplot as plt\n",
    "import seaborn as sns"
   ]
  },
  {
   "cell_type": "code",
   "execution_count": null,
   "id": "satisfied-wedding",
   "metadata": {},
   "outputs": [],
   "source": [
    "colnames = pd.read_csv('UCI HAR Dataset/features.txt', delim_whitespace=True, header=None, index_col=0)\n",
    "colnames"
   ]
  },
  {
   "cell_type": "code",
   "execution_count": null,
   "id": "compatible-cargo",
   "metadata": {},
   "outputs": [],
   "source": [
    "duplicated_cols = colnames.loc[colnames.duplicated()].index"
   ]
  },
  {
   "cell_type": "code",
   "execution_count": null,
   "id": "local-clearing",
   "metadata": {},
   "outputs": [],
   "source": [
    "X = pd.read_csv('UCI HAR Dataset/train/X_train.txt', header=None, delim_whitespace=True, error_bad_lines=False)"
   ]
  },
  {
   "cell_type": "code",
   "execution_count": null,
   "id": "spiritual-collector",
   "metadata": {},
   "outputs": [],
   "source": [
    "X_unique = X.drop(duplicated_cols, axis='columns')"
   ]
  },
  {
   "cell_type": "code",
   "execution_count": null,
   "id": "flying-drill",
   "metadata": {},
   "outputs": [],
   "source": [
    "X_unique.columns = colnames.drop(duplicated_cols).loc[:,1]"
   ]
  },
  {
   "cell_type": "code",
   "execution_count": null,
   "id": "greater-recycling",
   "metadata": {},
   "outputs": [],
   "source": [
    "X_unique.duplicated().sum()"
   ]
  },
  {
   "cell_type": "code",
   "execution_count": null,
   "id": "worth-change",
   "metadata": {},
   "outputs": [],
   "source": [
    "X_unique.isnull().sum().sum()"
   ]
  },
  {
   "cell_type": "code",
   "execution_count": null,
   "id": "ranging-affiliation",
   "metadata": {},
   "outputs": [],
   "source": [
    "y = pd.read_csv('UCI HAR Dataset/train/y_train.txt', header=None, names=['label'])\n",
    "y['label'] = y['label'].map({\n",
    "    1: 'WALKING',\n",
    "    2: 'WALKING_UPSTAIRS',\n",
    "    3: 'WALKING_DOWNSTAIRS',\n",
    "    4: 'SITTING',\n",
    "    5: 'STANDING',\n",
    "    6: 'LAYING'})\n",
    "df = pd.concat([X_unique,y], axis=1)"
   ]
  },
  {
   "cell_type": "markdown",
   "id": "banner-cambridge",
   "metadata": {},
   "source": [
    "## Jak wygląda Y?"
   ]
  },
  {
   "cell_type": "code",
   "execution_count": null,
   "id": "sticky-chicago",
   "metadata": {},
   "outputs": [],
   "source": [
    "sns.histplot(df['label'])\n",
    "plt.xticks(rotation=90)\n",
    "plt.show()"
   ]
  },
  {
   "cell_type": "markdown",
   "id": "rubber-mambo",
   "metadata": {},
   "source": [
    "Najmniej jest próbek z chodzenia po schodach. Co ciekawe, próbek ze schodzenia po schodach jest mniej niż z wchodzenia po schodach. Dane zostały podzielone po czasie. Możemy wywnioskować, że ludzie szybciej schodzą po schodach niż wchodzą."
   ]
  },
  {
   "cell_type": "code",
   "execution_count": null,
   "id": "bright-offering",
   "metadata": {},
   "outputs": [],
   "source": [
    "def plot_var(varname):\n",
    "    sns.displot(df, x=varname, hue='label', kind='kde')\n",
    "    plt.show()"
   ]
  },
  {
   "cell_type": "code",
   "execution_count": null,
   "id": "handmade-cameroon",
   "metadata": {
    "scrolled": true
   },
   "outputs": [],
   "source": [
    "\n",
    "\n",
    "for varname in X_unique.columns:\n",
    "    plot_var(varname)\n"
   ]
  },
  {
   "cell_type": "code",
   "execution_count": null,
   "id": "sacred-disposition",
   "metadata": {},
   "outputs": [],
   "source": [
    "corr_matrix = df.corr()"
   ]
  },
  {
   "cell_type": "code",
   "execution_count": null,
   "id": "supposed-science",
   "metadata": {},
   "outputs": [],
   "source": [
    "from itertools import combinations\n",
    "\n",
    "def absHighPass(df, absThresh):\n",
    "    passed = set()\n",
    "    for (r,c) in combinations(df.columns, 2):\n",
    "        if (abs(df.loc[r,c]) >= absThresh):\n",
    "            passed.add(r)\n",
    "            passed.add(c)\n",
    "    passed = sorted(passed)\n",
    "    return df.loc[passed,passed]"
   ]
  },
  {
   "cell_type": "code",
   "execution_count": null,
   "id": "smart-broadcasting",
   "metadata": {
    "scrolled": true
   },
   "outputs": [],
   "source": [
    "fig, ax = plt.subplots(figsize=(15,15))\n",
    "\n",
    "sns.heatmap(data = absHighPass(corr_matrix,0.9), ax=ax)\n",
    "plt.show()"
   ]
  },
  {
   "cell_type": "code",
   "execution_count": null,
   "id": "pointed-saying",
   "metadata": {
    "scrolled": true
   },
   "outputs": [],
   "source": [
    "high_var_cols = df.var().sort_values(ascending=False).head(20).index.tolist()\n",
    "for varname in high_var_cols:\n",
    "    plot_var(varname)"
   ]
  },
  {
   "cell_type": "code",
   "execution_count": null,
   "id": "distinct-future",
   "metadata": {},
   "outputs": [],
   "source": [
    "df.describe()"
   ]
  },
  {
   "cell_type": "code",
   "execution_count": null,
   "id": "competitive-physics",
   "metadata": {
    "scrolled": true
   },
   "outputs": [],
   "source": [
    "for varname in ['tGravityAcc-mean()-X',\n",
    "                'tGravityAcc-mean()-Y',\n",
    "                'tGravityAcc-mean()-Z']:\n",
    "    plot_var(varname)"
   ]
  },
  {
   "cell_type": "code",
   "execution_count": null,
   "id": "aggregate-moderator",
   "metadata": {
    "scrolled": true
   },
   "outputs": [],
   "source": [
    "significant_cols = [\n",
    "'tBodyAcc-max()-X',\n",
    "'tGravityAcc-mean()-X',\n",
    "'tGravityAcc-energy()-X',\n",
    "'tGravityAcc-correlation()-X,Y',\n",
    "'tBodyGyro-entropy()-Y',\n",
    "'tBodyGyroJerk-entropy()-Z',\n",
    "'tBodyAccMag-mad()',\n",
    "'fBodyAccJerk-mad()-Y',\n",
    "'fBodyAccJerk-maxInds-X',\n",
    "'fBodyAccJerk-maxInds-Z',\n",
    "'angle(X,gravityMean)'\n",
    "]\n",
    "\n",
    "for varname in significant_cols:\n",
    "    plot_var(varname)"
   ]
  },
  {
   "cell_type": "code",
   "execution_count": null,
   "id": "heated-haven",
   "metadata": {},
   "outputs": [],
   "source": [
    "small_df = df.loc[:, significant_cols]\n",
    "small_corr = small_df.corr()"
   ]
  },
  {
   "cell_type": "code",
   "execution_count": null,
   "id": "previous-finger",
   "metadata": {},
   "outputs": [],
   "source": [
    "small_df.isnull().sum()"
   ]
  },
  {
   "cell_type": "code",
   "execution_count": null,
   "id": "satellite-directive",
   "metadata": {},
   "outputs": [],
   "source": [
    "fig, ax = plt.subplots(figsize=(10,8))\n",
    "\n",
    "sns.heatmap(data = small_corr, ax=ax, annot=True)\n",
    "plt.show()"
   ]
  }
 ],
 "metadata": {
  "kernelspec": {
   "display_name": "Python 3",
   "language": "python",
   "name": "python3"
  },
  "language_info": {
   "codemirror_mode": {
    "name": "ipython",
    "version": 3
   },
   "file_extension": ".py",
   "mimetype": "text/x-python",
   "name": "python",
   "nbconvert_exporter": "python",
   "pygments_lexer": "ipython3",
   "version": "3.8.5"
  }
 },
 "nbformat": 4,
 "nbformat_minor": 5
}
