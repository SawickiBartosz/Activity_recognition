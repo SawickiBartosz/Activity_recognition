{
 "cells": [
  {
   "cell_type": "code",
   "execution_count": null,
   "id": "helpful-exhibit",
   "metadata": {},
   "outputs": [],
   "source": [
    "import pandas as pd\n",
    "import numpy as np\n",
    "import seaborn as sns\n",
    "\n",
    "from matplotlib import pyplot as plt\n",
    "from sklearn.cluster import KMeans, DBSCAN\n",
    "from utils import get_data_train, get_columns"
   ]
  },
  {
   "cell_type": "code",
   "execution_count": null,
   "id": "indoor-tonight",
   "metadata": {},
   "outputs": [],
   "source": [
    "df = get_data_train()\n",
    "chosen_cols = get_columns(df, n_cols=25) + ['activity', 'subject']"
   ]
  },
  {
   "cell_type": "code",
   "execution_count": null,
   "id": "emotional-vault",
   "metadata": {},
   "outputs": [],
   "source": [
    "X = df[chosen_cols].drop(['activity', 'subject'], axis=1)"
   ]
  },
  {
   "cell_type": "code",
   "execution_count": null,
   "id": "placed-victim",
   "metadata": {},
   "outputs": [],
   "source": [
    "from sklearn.metrics import adjusted_mutual_info_score\n",
    "\n",
    "def cluster_stability(X, model, resamples_n:int, **kwargs):\n",
    "    stability_scores = []\n",
    "    # initialize instance of a model with passed key words args\n",
    "    instance = model(**kwargs)\n",
    "    # predict base labels\n",
    "    labels = instance.fit_predict(X)\n",
    "    \n",
    "    for i in range(resamples_n):\n",
    "        instance = model(**kwargs)\n",
    "        # botstrap of X\n",
    "        bootstraped = X.sample(frac=1, replace=True)\n",
    "        \n",
    "        # train on bootstrap\n",
    "        instance.fit(bootstraped)\n",
    "\n",
    "        # get predicted labels for permutated data \n",
    "        predicted = instance.predict(X) \n",
    "        \n",
    "        # get mutual info score between base labels and just predicted\n",
    "        stability_scores.append(adjusted_mutual_info_score(labels, predicted))\n",
    "        \n",
    "    return np.mean(stability_scores)"
   ]
  },
  {
   "cell_type": "code",
   "execution_count": null,
   "id": "average-liverpool",
   "metadata": {
    "scrolled": true
   },
   "outputs": [],
   "source": [
    "print(cluster_stability(X, KMeans, 10, n_clusters=4))\n",
    "print(cluster_stability(X, KMeans, 10, n_clusters=6))"
   ]
  },
  {
   "cell_type": "markdown",
   "id": "burning-steering",
   "metadata": {},
   "source": [
    "Wygląda na to, że klastrujemy stabilnie"
   ]
  },
  {
   "cell_type": "code",
   "execution_count": null,
   "id": "functioning-creativity",
   "metadata": {},
   "outputs": [],
   "source": [
    "scores = []\n",
    "for i in range(2,11):\n",
    "    scores.append(cluster_stability(X, KMeans, 10, n_clusters=i))"
   ]
  },
  {
   "cell_type": "code",
   "execution_count": null,
   "id": "informed-triple",
   "metadata": {
    "scrolled": false
   },
   "outputs": [],
   "source": [
    "import plotly.express as px\n",
    "\n",
    "fig = px.line(x=range(2,11), y=scores, \n",
    "              labels={'x':'n_clusters', 'y':'Adjusted Mutual Info'},\n",
    "              title='Clustering Stability for KMeans (mean of 10 resamplings)')\n",
    "fig.show()"
   ]
  },
  {
   "cell_type": "markdown",
   "id": "rotary-annex",
   "metadata": {},
   "source": [
    "Najlepsza stabilność jest przy 2 lub 3, powyżej 6 spada mocniej.  "
   ]
  }
 ],
 "metadata": {
  "kernelspec": {
   "display_name": "Python 3",
   "language": "python",
   "name": "python3"
  },
  "language_info": {
   "codemirror_mode": {
    "name": "ipython",
    "version": 3
   },
   "file_extension": ".py",
   "mimetype": "text/x-python",
   "name": "python",
   "nbconvert_exporter": "python",
   "pygments_lexer": "ipython3",
   "version": "3.8.5"
  }
 },
 "nbformat": 4,
 "nbformat_minor": 5
}
