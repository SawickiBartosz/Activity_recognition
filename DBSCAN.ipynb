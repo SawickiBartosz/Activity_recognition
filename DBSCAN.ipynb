{
 "cells": [
  {
   "cell_type": "code",
   "execution_count": null,
   "metadata": {},
   "outputs": [],
   "source": [
    "import pandas as pd\n",
    "import numpy as np\n",
    "import seaborn as sns\n",
    "\n",
    "from matplotlib import pyplot as plt\n",
    "from sklearn.cluster import KMeans, DBSCAN\n",
    "from utils import get_data_train, get_columns"
   ]
  },
  {
   "cell_type": "code",
   "execution_count": null,
   "metadata": {},
   "outputs": [],
   "source": [
    "import numpy as np\n",
    "\n",
    "from sklearn.cluster import DBSCAN\n",
    "from sklearn import metrics\n",
    "from sklearn.datasets import make_blobs\n",
    "from sklearn.preprocessing import StandardScaler\n",
    "from tqdm import tqdm"
   ]
  },
  {
   "cell_type": "code",
   "execution_count": null,
   "metadata": {},
   "outputs": [],
   "source": [
    "df = get_data_train()\n",
    "chosen_cols = get_columns(df, n_cols=25) + ['activity', 'subject']"
   ]
  },
  {
   "cell_type": "code",
   "execution_count": null,
   "metadata": {},
   "outputs": [],
   "source": [
    "X = df[chosen_cols].drop(['activity', 'subject'], axis=1)\n",
    "y = df['activity']"
   ]
  },
  {
   "cell_type": "code",
   "execution_count": null,
   "metadata": {},
   "outputs": [],
   "source": [
    "epss = [0.15, 0.2,0.25, 0.3,0.35]\n",
    "min_samples = [30, 35, 40, 45, 50]\n",
    "n_epss = len( epss)\n",
    "n_min_samples = len( min_samples)\n",
    "\n",
    "homogenities = np.ndarray((n_epss, n_min_samples),)\n",
    "completenesses = np.ndarray((n_epss, n_min_samples),)\n",
    "v_measures = np.ndarray((n_epss, n_min_samples),)\n",
    "adjusted_rands = np.ndarray((n_epss, n_min_samples),)\n",
    "adjusted_mutual_infos = np.ndarray((n_epss, n_min_samples),)\n",
    "silhuettes = np.ndarray((n_epss, n_min_samples),)"
   ]
  },
  {
   "cell_type": "code",
   "execution_count": null,
   "metadata": {},
   "outputs": [],
   "source": [
    "for i in tqdm(range( n_epss)):\n",
    "    for j in range( n_min_samples):\n",
    "        db = DBSCAN(eps=epss[i], min_samples=min_samples[j]).fit(X)\n",
    "        labels = db.labels_\n",
    "        homogenities[i,j] = metrics.homogeneity_score(y, labels)\n",
    "        completenesses[i,j] = metrics.completeness_score(y, labels)\n",
    "        v_measures[i,j] = metrics.v_measure_score(y, labels)\n",
    "        adjusted_rands[i,j] = metrics.adjusted_rand_score(y, labels)\n",
    "        adjusted_mutual_infos[i,j] = metrics.adjusted_mutual_info_score(y, labels)\n",
    "        silhuettes[i,j] = metrics.silhouette_score(X, labels)"
   ]
  },
  {
   "cell_type": "code",
   "execution_count": null,
   "metadata": {},
   "outputs": [],
   "source": [
    "import seaborn as sns; sns.set_theme()\n",
    "import pandas as pd\n"
   ]
  },
  {
   "cell_type": "code",
   "execution_count": null,
   "metadata": {},
   "outputs": [],
   "source": [
    "\n",
    "homogenities_df = pd.DataFrame( homogenities, columns=min_samples, index=epss )\n",
    "completenesses_df = pd.DataFrame( completenesses, columns=min_samples, index=epss )\n",
    "v_measures_df = pd.DataFrame( v_measures, columns=min_samples, index=epss )\n",
    "adjusted_rands_df = pd.DataFrame( adjusted_rands, columns=min_samples, index=epss )\n",
    "adjusted_mutual_infos_df = pd.DataFrame( adjusted_mutual_infos, columns=min_samples, index=epss )\n",
    "silhuettes_df = pd.DataFrame( silhuettes, columns=min_samples, index=epss )"
   ]
  },
  {
   "cell_type": "code",
   "execution_count": null,
   "metadata": {},
   "outputs": [],
   "source": [
    "fig, axs = plt.subplots(3, 2,figsize=(9,9), constrained_layout=True)\n",
    "#fig.tight_layout()\n",
    "sns.heatmap( ax = axs[0,0], data = homogenities_df).set(title='homogenity score', ylabel=\"eps\", xlabel = \"min samples\")\n",
    "sns.heatmap( ax = axs[0,1], data = completenesses_df).set(title='completeness score', ylabel=\"eps\", xlabel = \"min samples\")\n",
    "sns.heatmap( ax = axs[1,0], data = v_measures_df).set(title='v measure score', ylabel=\"eps\", xlabel = \"min samples\")\n",
    "sns.heatmap( ax = axs[1,1], data = adjusted_rands_df).set(title='adjusted random score', ylabel=\"eps\", xlabel = \"min samples\")\n",
    "sns.heatmap( ax = axs[2,0], data = adjusted_mutual_infos_df).set(title='adjusted mutual information score', ylabel=\"eps\", xlabel = \"min samples\")\n",
    "sns.heatmap( ax = axs[2,1], data = silhuettes_df).set(title='silhuette score', ylabel=\"eps\", xlabel = \"min samples\")\n",
    "\n",
    "plt.show()"
   ]
  },
  {
   "cell_type": "markdown",
   "metadata": {},
   "source": [
    "Powyższe obrazy sugerują, ze parametry $\\epsilon = 0.25$ oraz min_samples$=50$ dają dobre rezultaty."
   ]
  },
  {
   "cell_type": "code",
   "execution_count": null,
   "metadata": {},
   "outputs": [],
   "source": [
    "import sklearn\n",
    "from matplotlib.ticker import MaxNLocator"
   ]
  },
  {
   "cell_type": "markdown",
   "metadata": {},
   "source": [
    "Dobieranie bardziej typowo:"
   ]
  },
  {
   "cell_type": "code",
   "execution_count": null,
   "metadata": {},
   "outputs": [],
   "source": [
    "minPts = 2*25\n",
    "nbrs = sklearn.neighbors.NearestNeighbors(n_neighbors=minPts).fit( X)\n",
    "distances, indices = nbrs.kneighbors( X)\n",
    "distanceDec = sorted(distances[:,minPts-1], reverse=True)\n",
    "#fig = plt.figure(figsize=(9,6))\n",
    "#ax1 = fig.add_subplot(111)\n",
    "fig,axes=plt.subplots(1,1, figsize=(9,6))\n",
    "axes.xaxis.set_major_locator(MaxNLocator(10)) \n",
    "plt.xlabel('Indeks punktu po sortowaniu')\n",
    "plt.ylabel('Dystans od 49 najbliższego sąsiada')\n",
    "plt.plot(list(range(1, X.shape[0]+1)), distanceDec)\n",
    "\n",
    "plt.xscale('log')\n",
    "plt.grid(axis='y')\n",
    "\n",
    "plt.show()\n",
    "\n"
   ]
  },
  {
   "cell_type": "markdown",
   "metadata": {},
   "source": [
    "zdaje się, że wartość $\\epsilon = 0.25$ jest optymalna"
   ]
  },
  {
   "cell_type": "code",
   "execution_count": null,
   "metadata": {},
   "outputs": [],
   "source": [
    "db = DBSCAN(eps=0.25, min_samples=50).fit(X)\n"
   ]
  },
  {
   "cell_type": "code",
   "execution_count": null,
   "metadata": {},
   "outputs": [],
   "source": [
    "np.unique( db.labels_)"
   ]
  }
 ],
 "metadata": {
  "kernelspec": {
   "display_name": "Python 3",
   "language": "python",
   "name": "python3"
  },
  "language_info": {
   "codemirror_mode": {
    "name": "ipython",
    "version": 3
   },
   "file_extension": ".py",
   "mimetype": "text/x-python",
   "name": "python",
   "nbconvert_exporter": "python",
   "pygments_lexer": "ipython3",
   "version": "3.8.3"
  }
 },
 "nbformat": 4,
 "nbformat_minor": 4
}
