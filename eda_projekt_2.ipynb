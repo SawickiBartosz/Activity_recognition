{
 "cells": [
  {
   "cell_type": "markdown",
   "metadata": {},
   "source": [
    "# Projekt 2\n",
    "\n",
    "## EDA"
   ]
  },
  {
   "cell_type": "code",
   "execution_count": null,
   "metadata": {},
   "outputs": [],
   "source": [
    "import os \n",
    "os.getcwd()\n",
    "os.chdir(\"/home/kurowskik/UCI HAR Dataset\")\n",
    "os.getcwd()"
   ]
  },
  {
   "cell_type": "code",
   "execution_count": null,
   "metadata": {},
   "outputs": [],
   "source": [
    "import pandas as pd\n",
    "import numpy as np\n",
    "import seaborn as sns"
   ]
  },
  {
   "cell_type": "code",
   "execution_count": null,
   "metadata": {},
   "outputs": [],
   "source": [
    "names = pd.read_csv( \"features.txt\", sep=\" \", header = None)\n",
    "#names = np.unique( names[[1]].values.flatten().tolist())\n",
    "names = names[[1]].values.flatten().tolist()\n",
    "names = [ names[i] + str(i) for i in range( len( names))]"
   ]
  },
  {
   "cell_type": "code",
   "execution_count": null,
   "metadata": {},
   "outputs": [],
   "source": [
    "X_train = pd.read_csv( \"train/X_train.txt\", delim_whitespace = True, names=names)\n",
    "X_test  = pd.read_csv( \"test/X_test.txt\", delim_whitespace = True, names=names)"
   ]
  },
  {
   "cell_type": "code",
   "execution_count": null,
   "metadata": {},
   "outputs": [],
   "source": [
    "y_train = pd.read_csv( \"train/y_train.txt\", delim_whitespace = True, header= None)\n",
    "y_test = pd.read_csv( \"test/y_test.txt\", delim_whitespace = True, header= None)"
   ]
  },
  {
   "cell_type": "code",
   "execution_count": null,
   "metadata": {},
   "outputs": [],
   "source": [
    "train_subjects = pd.read_csv( \"train/subject_train.txt\", delim_whitespace = True, header= None, names = [\"sub\"])\n",
    "test_subjects = pd.read_csv( \"test/subject_test.txt\", delim_whitespace = True, header= None, names = [\"sub\"])\n"
   ]
  },
  {
   "cell_type": "markdown",
   "metadata": {},
   "source": [
    "rozkład obserwacji względem uczestników"
   ]
  },
  {
   "cell_type": "code",
   "execution_count": null,
   "metadata": {},
   "outputs": [],
   "source": [
    "train_subjects[\"group\"] = \"train\"\n",
    "test_subjects[\"group\"] = \"test\"\n",
    "subjects = pd.concat([ test_subjects, train_subjects], ignore_index=True)\n",
    "sns.histplot( data = subjects, x = \"sub\", bins = 30,# y = \"size\",\n",
    "             hue = \"group\", palette = \"colorblind\")"
   ]
  },
  {
   "cell_type": "markdown",
   "metadata": {},
   "source": [
    "rozkład obserwacji względem uczestników z podziałem na labele"
   ]
  },
  {
   "cell_type": "code",
   "execution_count": null,
   "metadata": {},
   "outputs": [],
   "source": [
    "train_sub_with_labels = train_subjects.copy()\n",
    "train_sub_with_labels[\"label\"] = y_train\n",
    "test_sub_with_labels = test_subjects.copy()\n",
    "test_sub_with_labels[\"label\"] = y_test\n",
    "\n",
    "train_sub_with_labels[\"label\"] = train_sub_with_labels[\"label\"].map( decode)\n",
    "test_sub_with_labels[\"label\"] = test_sub_with_labels[\"label\"].map( decode)"
   ]
  },
  {
   "cell_type": "code",
   "execution_count": null,
   "metadata": {},
   "outputs": [],
   "source": [
    "sns.histplot( data = train_sub_with_labels, x = \"sub\", bins = 30,# y = \"size\",\n",
    "             hue = \"label\", palette = \"colorblind\", multiple = \"stack\",\n",
    "            stat = \"count\")"
   ]
  },
  {
   "cell_type": "code",
   "execution_count": null,
   "metadata": {},
   "outputs": [],
   "source": [
    "sns.histplot( data = test_sub_with_labels, x = \"sub\", bins = 30,# y = \"size\",\n",
    "             hue = \"label\", palette = \"colorblind\", multiple = \"stack\",\n",
    "            stat = \"count\")"
   ]
  },
  {
   "cell_type": "markdown",
   "metadata": {},
   "source": [
    "proste sprawdzenie co jest w środku"
   ]
  },
  {
   "cell_type": "code",
   "execution_count": null,
   "metadata": {},
   "outputs": [],
   "source": [
    "merged_train = X_train.copy()\n",
    "merged_train[\"to_predict\"] = y_train.values\n",
    "merged_train[\"to_predict\"]"
   ]
  },
  {
   "cell_type": "code",
   "execution_count": null,
   "metadata": {},
   "outputs": [],
   "source": [
    "merged_train.head()"
   ]
  },
  {
   "cell_type": "code",
   "execution_count": null,
   "metadata": {},
   "outputs": [],
   "source": [
    "merged_train.info()"
   ]
  },
  {
   "cell_type": "code",
   "execution_count": null,
   "metadata": {},
   "outputs": [],
   "source": [
    "decode = {1: \"walk\", 2:\"walk up\", 3:\"walk down\", 4:\"sit\", 5:\"stand\", 6:\"lie\"}\n",
    "merged_train[\"to_predict\"] = merged_train[\"to_predict\"].map( decode)\n",
    "merged_train[\"to_predict\"]"
   ]
  },
  {
   "cell_type": "code",
   "execution_count": null,
   "metadata": {},
   "outputs": [],
   "source": [
    "merged_train.describe()"
   ]
  },
  {
   "cell_type": "code",
   "execution_count": null,
   "metadata": {},
   "outputs": [],
   "source": [
    "cols = merged_train.columns\n",
    "cols.values"
   ]
  },
  {
   "cell_type": "markdown",
   "metadata": {},
   "source": [
    "różne wyrkesy"
   ]
  },
  {
   "cell_type": "code",
   "execution_count": null,
   "metadata": {},
   "outputs": [],
   "source": [
    "import seaborn as sns\n",
    "\n",
    "sns.scatterplot(x=\"tBodyGyro-correlation()-X,Z158\", y=\"angle(tBodyGyroJerkMean,gravityMean)557\", hue=\"to_predict\",\n",
    "              data=merged_train,\n",
    "                alpha = 0.2,\n",
    "    palette = \"colorblind\")#, kind = 'kde')"
   ]
  },
  {
   "cell_type": "code",
   "execution_count": null,
   "metadata": {},
   "outputs": [],
   "source": [
    "\n",
    "sns.jointplot(\n",
    "    data= merged_train,\n",
    "    x=\"tBodyGyro-max()-Y130\", \n",
    "    y='angle(Z,gravityMean)560',\n",
    "    hue=\"to_predict\",\n",
    "    kind=\"kde\",\n",
    "    palette = \"colorblind\"\n",
    ")"
   ]
  },
  {
   "cell_type": "code",
   "execution_count": null,
   "metadata": {},
   "outputs": [],
   "source": [
    "\n",
    "sns.jointplot(\n",
    "    data= merged_train,\n",
    "    x=\"tBodyAcc-max()-X9\", \n",
    "    y='angle(X,gravityMean)558',\n",
    "    hue=\"to_predict\",\n",
    "   # kind=\"kde\",\n",
    "    palette = \"colorblind\",\n",
    "    alpha = 0.3\n",
    ")"
   ]
  },
  {
   "cell_type": "code",
   "execution_count": null,
   "metadata": {},
   "outputs": [],
   "source": [
    "\n",
    "sns.jointplot(\n",
    "    data= merged_train,\n",
    "    x=\"tBodyAcc-max()-X9\", \n",
    "    y='angle(X,gravityMean)558',\n",
    "    hue=\"to_predict\",\n",
    "    kind=\"kde\",\n",
    "    palette = \"colorblind\",\n",
    ")"
   ]
  },
  {
   "cell_type": "code",
   "execution_count": null,
   "metadata": {},
   "outputs": [],
   "source": [
    "sns.jointplot(\n",
    "    data= merged_train,\n",
    "    x=\"tBodyAcc-max()-X9\", \n",
    "    y='tBodyAccMag-mad()202',\n",
    "    hue=\"to_predict\",\n",
    "    alpha = 0.2,\n",
    "    palette = \"colorblind\",\n",
    ")"
   ]
  },
  {
   "cell_type": "code",
   "execution_count": null,
   "metadata": {},
   "outputs": [],
   "source": [
    "sns.jointplot(\n",
    "    data= merged_train,\n",
    "    x=\"angle(X,gravityMean)558\", \n",
    "    y='tBodyGyro-entropy()-Z144',\n",
    "    hue=\"to_predict\",\n",
    "    kind = \"kde\",\n",
    "    palette = \"colorblind\",\n",
    ")"
   ]
  },
  {
   "cell_type": "code",
   "execution_count": null,
   "metadata": {},
   "outputs": [],
   "source": [
    "sns.jointplot(\n",
    "    data= merged_train,\n",
    "    x=\"angle(X,gravityMean)558\", \n",
    "    y='tBodyGyro-entropy()-Z144',\n",
    "    hue=\"to_predict\",\n",
    "    alpha = 0.2,\n",
    "    palette = \"colorblind\",\n",
    ")"
   ]
  },
  {
   "cell_type": "code",
   "execution_count": null,
   "metadata": {},
   "outputs": [],
   "source": []
  },
  {
   "cell_type": "code",
   "execution_count": null,
   "metadata": {},
   "outputs": [],
   "source": []
  },
  {
   "cell_type": "code",
   "execution_count": null,
   "metadata": {},
   "outputs": [],
   "source": [
    "\n",
    "sns.jointplot(\n",
    "    data= merged_train,\n",
    "    x=\"tBodyGyro-std()-X123\", \n",
    "    y='angle(Y,gravityMean)559',\n",
    "    hue=\"to_predict\",\n",
    "    kind=\"kde\",\n",
    "    palette = \"colorblind\"\n",
    ")"
   ]
  },
  {
   "cell_type": "code",
   "execution_count": null,
   "metadata": {},
   "outputs": [],
   "source": [
    "sns.jointplot(\n",
    "    data= merged_train,\n",
    "    x=\"tBodyGyro-max()-Y130\", \n",
    "    y='tGravityAccMag-max()216',\n",
    "    hue=\"to_predict\",\n",
    "    kind=\"kde\",\n",
    "    palette = \"colorblind\"\n",
    ")"
   ]
  },
  {
   "cell_type": "code",
   "execution_count": null,
   "metadata": {},
   "outputs": [],
   "source": [
    "sns.jointplot(\n",
    "    data= merged_train,\n",
    "    x=\"tBodyGyro-std()-Z125\", \n",
    "    y='tBodyGyro-iqr()-Z141',\n",
    "    hue=\"to_predict\",\n",
    "    kind=\"kde\",\n",
    "    palette = \"colorblind\",\n",
    "    #alpha = 0.2\n",
    ")"
   ]
  },
  {
   "cell_type": "code",
   "execution_count": null,
   "metadata": {},
   "outputs": [],
   "source": [
    "sns.jointplot(\n",
    "    data= merged_train,\n",
    "    x=\"tBodyGyro-std()-Y124\",\n",
    "    y='tBodyGyro-iqr()-Y140',\n",
    "    hue=\"to_predict\",\n",
    "    kind=\"kde\",\n",
    "    palette = \"colorblind\"\n",
    ")"
   ]
  },
  {
   "cell_type": "code",
   "execution_count": null,
   "metadata": {},
   "outputs": [],
   "source": [
    "sns.jointplot(\n",
    "    data=  merged_train,\n",
    "    x=\"tBodyGyro-min()-Z134\",\n",
    "    y='tBodyGyro-max()-Z131',\n",
    "    hue=\"to_predict\",\n",
    "    kind=\"kde\",\n",
    "    palette = \"colorblind\"\n",
    ")"
   ]
  },
  {
   "cell_type": "code",
   "execution_count": null,
   "metadata": {},
   "outputs": [],
   "source": [
    "sns.jointplot(\n",
    "    data= merged_train,\n",
    "    x=\"tBodyGyro-min()-Y133\",\n",
    "    y='tBodyGyro-max()-Y130',\n",
    "    hue=\"to_predict\",\n",
    "    kind=\"kde\",\n",
    "    palette=\"colorblind\"\n",
    ")"
   ]
  },
  {
   "cell_type": "code",
   "execution_count": null,
   "metadata": {},
   "outputs": [],
   "source": [
    "sns.jointplot(\n",
    "    data= merged_train,\n",
    "    x=\"tBodyGyro-std()-Y124\",\n",
    "    y='tBodyGyro-std()-Z125',\n",
    "    hue=\"to_predict\",\n",
    "    kind=\"kde\",\n",
    "    palette = \"colorblind\"\n",
    ")"
   ]
  },
  {
   "cell_type": "code",
   "execution_count": null,
   "metadata": {},
   "outputs": [],
   "source": [
    "sns.jointplot(\n",
    "    data= merged_train,\n",
    "    x=\"tBodyGyro-std()-X123\", \n",
    "    y='tBodyGyro-std()-Z125',\n",
    "    hue=\"to_predict\",\n",
    "    kind=\"kde\",\n",
    "    palette = \"colorblind\"\n",
    ")"
   ]
  },
  {
   "cell_type": "code",
   "execution_count": null,
   "metadata": {},
   "outputs": [],
   "source": [
    "sns.jointplot(\n",
    "    data= merged_train,\n",
    "    x=\"tBodyGyro-std()-X123\",\n",
    "    y='tBodyGyroJerkMag-iqr()259',\n",
    "    hue=\"to_predict\",\n",
    "    kind=\"kde\",\n",
    "    palette = \"colorblind\"\n",
    ")"
   ]
  },
  {
   "cell_type": "code",
   "execution_count": null,
   "metadata": {},
   "outputs": [],
   "source": [
    "sns.jointplot(\n",
    "    data= merged_train,\n",
    "    x=\"tBodyGyro-min()-Z134\",\n",
    "    y='tBodyGyro-std()-Z125',\n",
    "    hue=\"to_predict\",\n",
    "    kind=\"kde\",\n",
    "    palette = \"colorblind\"\n",
    ")"
   ]
  },
  {
   "cell_type": "code",
   "execution_count": null,
   "metadata": {},
   "outputs": [],
   "source": [
    "sns.jointplot(\n",
    "    data= merged_train,\n",
    "    x=\"tBodyGyro-min()-Z134\",\n",
    "    y='tBodyGyroJerkMag-max()255',\n",
    "    hue=\"to_predict\",\n",
    "    kind=\"kde\",\n",
    "    palette = \"colorblind\"\n",
    ")"
   ]
  },
  {
   "cell_type": "code",
   "execution_count": null,
   "metadata": {},
   "outputs": [],
   "source": [
    "sns.jointplot(\n",
    "    data= merged_train,\n",
    "    x=\"tBodyGyro-min()-Z134\",\n",
    "    y='tBodyGyroJerk-max()-Z171',\n",
    "    hue=\"to_predict\",\n",
    "    kind=\"kde\",\n",
    "    palette = \"colorblind\"\n",
    ")"
   ]
  },
  {
   "cell_type": "code",
   "execution_count": null,
   "metadata": {},
   "outputs": [],
   "source": [
    "sns.jointplot(\n",
    "    data= merged_train,\n",
    "    x=\"tBodyGyroJerk-std()-X163\",\n",
    "    y='tBodyGyroJerk-max()-Z171',\n",
    "    hue=\"to_predict\",\n",
    "    kind=\"kde\",\n",
    "    palette = \"colorblind\"\n",
    ")"
   ]
  },
  {
   "cell_type": "code",
   "execution_count": null,
   "metadata": {},
   "outputs": [],
   "source": [
    "sns.jointplot(\n",
    "    data= merged_train,\n",
    "    x=\"tBodyGyroJerk-std()-Y164\",\n",
    "    y='tBodyGyroJerk-max()-Z171',\n",
    "    hue=\"to_predict\",\n",
    "    kind=\"kde\",\n",
    "    palette = \"colorblind\"\n",
    ")"
   ]
  },
  {
   "cell_type": "code",
   "execution_count": null,
   "metadata": {},
   "outputs": [],
   "source": [
    "sns.jointplot(\n",
    "    data= merged_train,\n",
    "    x=\"tBodyGyroJerk-std()-Y164\",\n",
    "    y='tBodyGyroJerk-max()-Y170',\n",
    "    hue=\"to_predict\",\n",
    "    #kind=\"kde\",\n",
    "    alpha = 0.2,\n",
    "    palette = \"colorblind\"\n",
    ")"
   ]
  },
  {
   "cell_type": "code",
   "execution_count": null,
   "metadata": {},
   "outputs": [],
   "source": [
    "sns.jointplot(\n",
    "    data= merged_train,\n",
    "    x=\"tBodyGyroJerk-std()-Y164\",\n",
    "    y='tBodyGyroJerkMag-iqr()259',\n",
    "    hue=\"to_predict\",\n",
    "    #kind=\"kde\",\n",
    "    alpha = 0.2,\n",
    "    palette = \"colorblind\"\n",
    ")"
   ]
  },
  {
   "cell_type": "code",
   "execution_count": null,
   "metadata": {},
   "outputs": [],
   "source": [
    "sns.jointplot(\n",
    "    data= merged_train,\n",
    "    x=\"tGravityAccMag-max()216\",\n",
    "    y='tBodyGyroJerkMag-iqr()259',\n",
    "    hue=\"to_predict\",\n",
    "    kind=\"kde\",\n",
    "    palette = \"colorblind\"\n",
    ")"
   ]
  },
  {
   "cell_type": "code",
   "execution_count": null,
   "metadata": {},
   "outputs": [],
   "source": [
    "sns.jointplot(\n",
    "    data= merged_train,\n",
    "    x=\"tBodyGyro-iqr()-Z141\",\n",
    "    y='tBodyGyroJerkMag-iqr()259',\n",
    "    hue=\"to_predict\",\n",
    "    kind=\"kde\",\n",
    "    palette = \"colorblind\"\n",
    ")"
   ]
  },
  {
   "cell_type": "code",
   "execution_count": null,
   "metadata": {},
   "outputs": [],
   "source": [
    "sns.jointplot(\n",
    "    data= merged_train,\n",
    "    x=\"tBodyAcc-mean()-Z2\",\n",
    "    y='tGravityAccMag-max()216',\n",
    "    hue=\"to_predict\",\n",
    "    #kind=\"kde\",\n",
    "    alpha = 0.2,\n",
    "    palette = \"colorblind\"\n",
    ")"
   ]
  },
  {
   "cell_type": "code",
   "execution_count": null,
   "metadata": {},
   "outputs": [],
   "source": [
    "sns.jointplot(\n",
    "    data= merged_train,\n",
    "    x=\"tGravityAccMag-std()214\",\n",
    "    y='tGravityAccMag-max()216',\n",
    "    hue=\"to_predict\",\n",
    "    #kind=\"kde\",\n",
    "    palette = \"colorblind\",\n",
    "    alpha = 0.2\n",
    ")"
   ]
  },
  {
   "cell_type": "code",
   "execution_count": null,
   "metadata": {},
   "outputs": [],
   "source": [
    "sns.jointplot(\n",
    "    data= merged_train,\n",
    "    x=\"tGravityAccMag-std()214\",\n",
    "    y='tBodyAcc-iqr()-Z21',\n",
    "    hue=\"to_predict\",\n",
    "    kind=\"kde\",\n",
    "    palette = \"colorblind\"\n",
    ")"
   ]
  },
  {
   "cell_type": "code",
   "execution_count": null,
   "metadata": {},
   "outputs": [],
   "source": [
    "sns.jointplot(\n",
    "    data= merged_train,\n",
    "    x=\"tGravityAccMag-iqr()220\",\n",
    "    y='tGravityAccMag-min()217',\n",
    "    hue=\"to_predict\",\n",
    "    kind=\"kde\",\n",
    "    palette = \"colorblind\"\n",
    ")"
   ]
  },
  {
   "cell_type": "code",
   "execution_count": null,
   "metadata": {},
   "outputs": [],
   "source": [
    "sns.jointplot(\n",
    "    data= merged_train,\n",
    "    x=\"tBodyAccJerk-min()-Z94\",\n",
    "    y='tGravityAccMag-min()217',\n",
    "    hue=\"to_predict\",\n",
    "    #kind=\"kde\",\n",
    "    palette = \"colorblind\",\n",
    "   \n",
    ")"
   ]
  },
  {
   "cell_type": "code",
   "execution_count": null,
   "metadata": {},
   "outputs": [],
   "source": [
    "sns.jointplot(\n",
    "    data= merged_train,\n",
    "    x=\"tBodyAccJerk-min()-Y93\",\n",
    "    y='tGravityAccMag-min()217',\n",
    "    hue=\"to_predict\",\n",
    "    #kind=\"kde\",\n",
    "    alpha = 0.2,\n",
    "    palette = \"colorblind\"\n",
    ")"
   ]
  },
  {
   "cell_type": "code",
   "execution_count": null,
   "metadata": {},
   "outputs": [],
   "source": [
    "sns.jointplot(\n",
    "    data= merged_train,\n",
    "    x=\"tBodyAccJerk-min()-Y93\",\n",
    "    y='tBodyAccJerkMag-iqr()233',\n",
    "    hue=\"to_predict\",\n",
    "    kind=\"kde\",\n",
    "    palette = \"colorblind\"\n",
    ")"
   ]
  },
  {
   "cell_type": "code",
   "execution_count": null,
   "metadata": {},
   "outputs": [],
   "source": [
    "import seaborn as sns"
   ]
  },
  {
   "cell_type": "code",
   "execution_count": null,
   "metadata": {},
   "outputs": [],
   "source": [
    "from matplotlib.pyplot import figure\n",
    "figure(num=None, figsize=(8, 6), dpi=80)\n",
    "\n",
    "corrMatrix = merged_train.corr()\n",
    "sns.heatmap(corrMatrix)\n",
    "plt.show()"
   ]
  },
  {
   "cell_type": "code",
   "execution_count": null,
   "metadata": {},
   "outputs": [],
   "source": [
    "sns.jointplot(\n",
    "    data= merged_train,\n",
    "    x=\"tBodyAccJerk-iqr()-Y100\",\n",
    "    y='tBodyAccMag-max()203',\n",
    "    hue=\"to_predict\",\n",
    "    kind=\"kde\",\n",
    "    palette = \"colorblind\"\n",
    ")"
   ]
  },
  {
   "cell_type": "code",
   "execution_count": null,
   "metadata": {},
   "outputs": [],
   "source": [
    "sns.jointplot(\n",
    "    data= merged_train,\n",
    "    x=\"tBodyAccJerk-iqr()-Y100\",\n",
    "    y='tBodyAcc-mean()-Y1',\n",
    "    hue=\"to_predict\",\n",
    "    kind=\"kde\",\n",
    "    palette = \"colorblind\"\n",
    ")"
   ]
  },
  {
   "cell_type": "code",
   "execution_count": null,
   "metadata": {},
   "outputs": [],
   "source": [
    "sns.jointplot(\n",
    "    data= merged_train,\n",
    "    x=\"tBodyAcc-min()-Y13\", \n",
    "    y='tBodyAcc-max()-Z11',\n",
    "    hue=\"to_predict\",\n",
    "    #kind=\"kde\",\n",
    "    alpha=0.2,\n",
    "    palette = \"colorblind\"\n",
    ")"
   ]
  },
  {
   "cell_type": "code",
   "execution_count": null,
   "metadata": {},
   "outputs": [],
   "source": [
    "sns.jointplot( \n",
    "    data= merged_train,\n",
    "    x=\"tBodyAccJerk-iqr()-Y100\",\n",
    "    y='tBodyAccJerk-std()-X83',\n",
    "    hue=\"to_predict\",\n",
    "    kind=\"kde\",\n",
    "    palette = \"colorblind\"\n",
    ")"
   ]
  },
  {
   "cell_type": "code",
   "execution_count": null,
   "metadata": {},
   "outputs": [],
   "source": [
    "sns.jointplot(\n",
    "    data= merged_train,\n",
    "    x=\"tBodyAccJerk-iqr()-Y100\",\n",
    "    y='tBodyAcc-iqr()-X19',\n",
    "    hue=\"to_predict\",\n",
    "    kind=\"kde\",\n",
    "    palette = \"colorblind\"\n",
    ")"
   ]
  },
  {
   "cell_type": "code",
   "execution_count": null,
   "metadata": {},
   "outputs": [],
   "source": [
    "sns.jointplot(\n",
    "    data= merged_train,\n",
    "    x=\"tBodyAcc-min()-Y13\",\n",
    "    y='tBodyAcc-iqr()-X19',\n",
    "    hue=\"to_predict\",\n",
    "    kind=\"kde\",\n",
    "    palette = \"colorblind\"\n",
    ")"
   ]
  },
  {
   "cell_type": "code",
   "execution_count": null,
   "metadata": {},
   "outputs": [],
   "source": [
    "sns.jointplot(\n",
    "    data= merged_train,\n",
    "    x=\"tBodyAcc-min()-Y13\",\n",
    "    y='tBodyAcc-iqr()-X19',\n",
    "    hue=\"to_predict\",\n",
    "   kind=\"kde\",\n",
    "    palette = \"colorblind\"\n",
    ")"
   ]
  },
  {
   "cell_type": "code",
   "execution_count": null,
   "metadata": {},
   "outputs": [],
   "source": [
    "sns.jointplot(\n",
    "    data=merged_train,\n",
    "    x=\"tBodyAcc-mean()-X0\",\n",
    "    y=\"tBodyAcc-mean()-Z2\",\n",
    "    hue = \"to_predict\",\n",
    "palette = \"colorblind\",\n",
    "    #kind = \"kde\"\n",
    ")"
   ]
  },
  {
   "cell_type": "code",
   "execution_count": null,
   "metadata": {},
   "outputs": [],
   "source": [
    "sns.jointplot(\n",
    "    data=merged_train,\n",
    "    x=\"tBodyAcc-mean()-X0\",\n",
    "    y=\"tBodyAcc-max()-Z11\",\n",
    "    hue = \"to_predict\",\n",
    "palette = \"colorblind\")"
   ]
  },
  {
   "cell_type": "code",
   "execution_count": null,
   "metadata": {},
   "outputs": [],
   "source": [
    "sns.jointplot(\n",
    "    data=merged_train,\n",
    "    x=\"tBodyAcc-min()-X12\",\n",
    "    y=\"tBodyAcc-max()-Z11\",\n",
    "    hue = \"to_predict\",\n",
    "    palette = \"colorblind\",\n",
    "   # kind = \"kde\"\n",
    ")"
   ]
  },
  {
   "cell_type": "code",
   "execution_count": null,
   "metadata": {},
   "outputs": [],
   "source": [
    "sns.jointplot(\n",
    "    data=merged_train,\n",
    "    x=\"tBodyAcc-iqr()-Z21\",\n",
    "    y=\"tBodyAcc-max()-Z11\",\n",
    "    hue = \"to_predict\",\n",
    "palette = \"colorblind\",\n",
    "    #kind = \"kde\"\n",
    ")"
   ]
  },
  {
   "cell_type": "code",
   "execution_count": null,
   "metadata": {},
   "outputs": [],
   "source": [
    "sns.jointplot(\n",
    "    data=merged_train,\n",
    "    x=\"tBodyAccJerkMag-max()229\",\n",
    "    y=\"tBodyAcc-iqr()-Y20\",\n",
    "    hue = \"to_predict\",\n",
    "palette = \"colorblind\",\n",
    "kind = \"kde\"\n",
    ")"
   ]
  },
  {
   "cell_type": "code",
   "execution_count": null,
   "metadata": {},
   "outputs": [],
   "source": [
    "sns.jointplot(\n",
    "    data=merged_train,\n",
    "    x=\"tBodyAcc-iqr()-X19\",\n",
    "    y=\"tBodyAccJerk-std()-Y84\",\n",
    "    hue = \"to_predict\",\n",
    "palette = \"colorblind\",\n",
    "#kind = \"kde\"\n",
    ")"
   ]
  },
  {
   "cell_type": "code",
   "execution_count": null,
   "metadata": {},
   "outputs": [],
   "source": [
    "sns.jointplot(\n",
    "    data=merged_train,\n",
    "    x=\"tBodyAcc-iqr()-Y20\",\n",
    "    y=\"tBodyAccJerk-iqr()-Y100\",\n",
    "    hue = \"to_predict\",\n",
    "palette = \"colorblind\",\n",
    "kind = \"kde\")"
   ]
  },
  {
   "cell_type": "code",
   "execution_count": null,
   "metadata": {},
   "outputs": [],
   "source": [
    "sns.jointplot(\n",
    "    data=merged_train,\n",
    "    x=\"tBodyAccJerk-mean()-X80\",\n",
    "    y=\"tBodyAccJerk-std()-Y84\",\n",
    "    hue = \"to_predict\",\n",
    "palette = \"colorblind\"\n",
    ")"
   ]
  },
  {
   "cell_type": "code",
   "execution_count": null,
   "metadata": {},
   "outputs": [],
   "source": [
    "sns.relplot(\n",
    "    data=only_fBodyAcc,\n",
    "    x=\"fBodyAcc-std()-Y269\",\n",
    "    y=\"fBodyAccJerk-mean()-X344\",\n",
    "    hue = \"to_predict\")"
   ]
  },
  {
   "cell_type": "code",
   "execution_count": null,
   "metadata": {},
   "outputs": [],
   "source": [
    "sns.jointplot(\n",
    "    data=merged_train,\n",
    "    x=\"tBodyAcc-max()-Z11\",\n",
    "    y='tBodyAccJerk-max()-Z91',\n",
    "    hue = \"to_predict\",\n",
    "palette = \"colorblind\",\n",
    "kind = \"kde\")"
   ]
  },
  {
   "cell_type": "code",
   "execution_count": null,
   "metadata": {},
   "outputs": [],
   "source": [
    "sns.jointplot(\n",
    "    data= merged_train,\n",
    "    x=\"tBodyAcc-max()-Z11\",\n",
    "    y='tBodyAccJerk-min()-Z94',\n",
    "    hue = \"to_predict\",\n",
    "    palette = \"colorblind\",\n",
    "    kind = \"kde\"\n",
    ")"
   ]
  },
  {
   "cell_type": "code",
   "execution_count": null,
   "metadata": {},
   "outputs": [],
   "source": [
    "sns.jointplot(\n",
    "    data=merged_train,\n",
    "    x=\"tBodyAcc-max()-Z11\",\n",
    "    y='tBodyAcc-min()-Y13',\n",
    "    hue = \"to_predict\",\n",
    "    palette = \"colorblind\",\n",
    "    kind = \"kde\"\n",
    ")"
   ]
  },
  {
   "cell_type": "code",
   "execution_count": null,
   "metadata": {},
   "outputs": [],
   "source": [
    "sns.jointplot(\n",
    "    data=merged_train,\n",
    "    x=\"tBodyAcc-max()-Z11\",\n",
    "    y='tBodyAcc-min()-Y13',\n",
    "    hue = \"to_predict\",kind=\"kde\",\n",
    "palette = \"colorblind\",\n",
    "    #kind = \"kde\"\n",
    ")"
   ]
  },
  {
   "cell_type": "code",
   "execution_count": null,
   "metadata": {},
   "outputs": [],
   "source": [
    "sns.jointplot(\n",
    "    data=merged_train,\n",
    "    x=\"tBodyAcc-max()-Z11\",\n",
    "    y='tBodyAcc-min()-Z14',\n",
    "    hue = \"to_predict\",\n",
    "palette = \"colorblind\",\n",
    "    kind = \"kde\"\n",
    ")"
   ]
  },
  {
   "cell_type": "code",
   "execution_count": null,
   "metadata": {},
   "outputs": [],
   "source": [
    "sns.jointplot(\n",
    "    data=merged_train,\n",
    "    x=\"tBodyAcc-iqr()-Y20\",\n",
    "    y='tBodyAcc-max()-Z11',\n",
    "    hue = \"to_predict\",\n",
    "palette = \"colorblind\",\n",
    "   # kind = \"kde\"\n",
    "    alpha = 0.1\n",
    ")"
   ]
  },
  {
   "cell_type": "code",
   "execution_count": null,
   "metadata": {},
   "outputs": [],
   "source": [
    "sns.jointplot(\n",
    "    data=merged_train,\n",
    "    x=\"fBodyAcc-mean()-Z267\",\n",
    "    y='tBodyAccJerkMag-min()230',\n",
    "    hue = \"to_predict\",\n",
    "palette = \"colorblind\",\n",
    "    #kind = \"kde\"\n",
    "    alpha = 0.2\n",
    ")"
   ]
  },
  {
   "cell_type": "code",
   "execution_count": null,
   "metadata": {},
   "outputs": [],
   "source": [
    "sns.jointplot(\n",
    "    data=merged_train,\n",
    "    x=\"tBodyAcc-max()-Z11\",\n",
    "    y='tBodyAcc-min()-Z14',\n",
    "    hue = \"to_predict\",\n",
    "    kind=\"kde\",\n",
    "    palette = \"colorblind\"\n",
    ")"
   ]
  },
  {
   "cell_type": "code",
   "execution_count": null,
   "metadata": {},
   "outputs": [],
   "source": [
    "sns.jointplot(\n",
    "    data=merged_train,\n",
    "    x=\"tBodyAcc-max()-Z11\",\n",
    "    y='tBodyAcc-min()-Z14',\n",
    "    hue = \"to_predict\",\n",
    "    #kind=\"kde\",\n",
    "    alpha = 0.2,\n",
    "    palette = \"colorblind\"\n",
    ")"
   ]
  }
 ],
 "metadata": {
  "kernelspec": {
   "display_name": "Python 3",
   "language": "python",
   "name": "python3"
  },
  "language_info": {
   "codemirror_mode": {
    "name": "ipython",
    "version": 3
   },
   "file_extension": ".py",
   "mimetype": "text/x-python",
   "name": "python",
   "nbconvert_exporter": "python",
   "pygments_lexer": "ipython3",
   "version": "3.8.3"
  }
 },
 "nbformat": 4,
 "nbformat_minor": 4
}
